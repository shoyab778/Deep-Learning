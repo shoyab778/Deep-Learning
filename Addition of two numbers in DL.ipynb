{
 "cells": [
  {
   "cell_type": "code",
   "execution_count": 1,
   "metadata": {},
   "outputs": [
    {
     "name": "stdout",
     "output_type": "stream",
     "text": [
      "Requirement already satisfied: keras in c:\\users\\smdsh\\anaconda3\\lib\\site-packages (2.11.0)\n",
      "Note: you may need to restart the kernel to use updated packages.\n"
     ]
    }
   ],
   "source": [
    "pip install keras"
   ]
  },
  {
   "cell_type": "code",
   "execution_count": 3,
   "metadata": {},
   "outputs": [
    {
     "name": "stdout",
     "output_type": "stream",
     "text": [
      "Requirement already satisfied: tensorflow in c:\\users\\smdsh\\anaconda3\\lib\\site-packages (2.11.0)\n",
      "Requirement already satisfied: tensorflow-intel==2.11.0; platform_system == \"Windows\" in c:\\users\\smdsh\\anaconda3\\lib\\site-packages (from tensorflow) (2.11.0)\n",
      "Requirement already satisfied: typing-extensions>=3.6.6 in c:\\users\\smdsh\\anaconda3\\lib\\site-packages (from tensorflow-intel==2.11.0; platform_system == \"Windows\"->tensorflow) (4.7.1)\n",
      "Requirement already satisfied: protobuf<3.20,>=3.9.2 in c:\\users\\smdsh\\anaconda3\\lib\\site-packages (from tensorflow-intel==2.11.0; platform_system == \"Windows\"->tensorflow) (3.19.6)\n",
      "Requirement already satisfied: tensorflow-estimator<2.12,>=2.11.0 in c:\\users\\smdsh\\anaconda3\\lib\\site-packages (from tensorflow-intel==2.11.0; platform_system == \"Windows\"->tensorflow) (2.11.0)\n",
      "Requirement already satisfied: wrapt>=1.11.0 in c:\\users\\smdsh\\anaconda3\\lib\\site-packages (from tensorflow-intel==2.11.0; platform_system == \"Windows\"->tensorflow) (1.11.2)\n",
      "Requirement already satisfied: h5py>=2.9.0 in c:\\users\\smdsh\\anaconda3\\lib\\site-packages (from tensorflow-intel==2.11.0; platform_system == \"Windows\"->tensorflow) (2.9.0)\n",
      "Requirement already satisfied: tensorboard<2.12,>=2.11 in c:\\users\\smdsh\\anaconda3\\lib\\site-packages (from tensorflow-intel==2.11.0; platform_system == \"Windows\"->tensorflow) (2.11.2)\n",
      "Requirement already satisfied: keras<2.12,>=2.11.0 in c:\\users\\smdsh\\anaconda3\\lib\\site-packages (from tensorflow-intel==2.11.0; platform_system == \"Windows\"->tensorflow) (2.11.0)\n",
      "Requirement already satisfied: libclang>=13.0.0 in c:\\users\\smdsh\\anaconda3\\lib\\site-packages (from tensorflow-intel==2.11.0; platform_system == \"Windows\"->tensorflow) (18.1.1)\n",
      "Requirement already satisfied: flatbuffers>=2.0 in c:\\users\\smdsh\\anaconda3\\lib\\site-packages (from tensorflow-intel==2.11.0; platform_system == \"Windows\"->tensorflow) (24.3.25)\n",
      "Requirement already satisfied: setuptools in c:\\users\\smdsh\\anaconda3\\lib\\site-packages (from tensorflow-intel==2.11.0; platform_system == \"Windows\"->tensorflow) (41.0.1)\n",
      "Requirement already satisfied: packaging in c:\\users\\smdsh\\anaconda3\\lib\\site-packages (from tensorflow-intel==2.11.0; platform_system == \"Windows\"->tensorflow) (19.0)\n",
      "Requirement already satisfied: astunparse>=1.6.0 in c:\\users\\smdsh\\anaconda3\\lib\\site-packages (from tensorflow-intel==2.11.0; platform_system == \"Windows\"->tensorflow) (1.6.3)\n",
      "Requirement already satisfied: numpy>=1.20 in c:\\users\\smdsh\\anaconda3\\lib\\site-packages (from tensorflow-intel==2.11.0; platform_system == \"Windows\"->tensorflow) (1.21.6)\n",
      "Requirement already satisfied: absl-py>=1.0.0 in c:\\users\\smdsh\\anaconda3\\lib\\site-packages (from tensorflow-intel==2.11.0; platform_system == \"Windows\"->tensorflow) (2.1.0)\n",
      "Requirement already satisfied: tensorflow-io-gcs-filesystem>=0.23.1; platform_machine != \"arm64\" or platform_system != \"Darwin\" in c:\\users\\smdsh\\anaconda3\\lib\\site-packages (from tensorflow-intel==2.11.0; platform_system == \"Windows\"->tensorflow) (0.31.0)\n",
      "Requirement already satisfied: six>=1.12.0 in c:\\users\\smdsh\\anaconda3\\lib\\site-packages (from tensorflow-intel==2.11.0; platform_system == \"Windows\"->tensorflow) (1.12.0)\n",
      "Requirement already satisfied: opt-einsum>=2.3.2 in c:\\users\\smdsh\\anaconda3\\lib\\site-packages (from tensorflow-intel==2.11.0; platform_system == \"Windows\"->tensorflow) (3.3.0)\n",
      "Requirement already satisfied: gast<=0.4.0,>=0.2.1 in c:\\users\\smdsh\\anaconda3\\lib\\site-packages (from tensorflow-intel==2.11.0; platform_system == \"Windows\"->tensorflow) (0.4.0)\n",
      "Requirement already satisfied: google-pasta>=0.1.1 in c:\\users\\smdsh\\anaconda3\\lib\\site-packages (from tensorflow-intel==2.11.0; platform_system == \"Windows\"->tensorflow) (0.2.0)\n",
      "Requirement already satisfied: grpcio<2.0,>=1.24.3 in c:\\users\\smdsh\\anaconda3\\lib\\site-packages (from tensorflow-intel==2.11.0; platform_system == \"Windows\"->tensorflow) (1.62.2)\n",
      "Requirement already satisfied: termcolor>=1.1.0 in c:\\users\\smdsh\\anaconda3\\lib\\site-packages (from tensorflow-intel==2.11.0; platform_system == \"Windows\"->tensorflow) (2.3.0)\n",
      "Requirement already satisfied: markdown>=2.6.8 in c:\\users\\smdsh\\anaconda3\\lib\\site-packages (from tensorboard<2.12,>=2.11->tensorflow-intel==2.11.0; platform_system == \"Windows\"->tensorflow) (3.4.4)\n",
      "Requirement already satisfied: tensorboard-data-server<0.7.0,>=0.6.0 in c:\\users\\smdsh\\anaconda3\\lib\\site-packages (from tensorboard<2.12,>=2.11->tensorflow-intel==2.11.0; platform_system == \"Windows\"->tensorflow) (0.6.1)\n",
      "Requirement already satisfied: werkzeug>=1.0.1 in c:\\users\\smdsh\\anaconda3\\lib\\site-packages (from tensorboard<2.12,>=2.11->tensorflow-intel==2.11.0; platform_system == \"Windows\"->tensorflow) (2.2.3)\n",
      "Requirement already satisfied: requests<3,>=2.21.0 in c:\\users\\smdsh\\anaconda3\\lib\\site-packages (from tensorboard<2.12,>=2.11->tensorflow-intel==2.11.0; platform_system == \"Windows\"->tensorflow) (2.22.0)\n",
      "Requirement already satisfied: google-auth<3,>=1.6.3 in c:\\users\\smdsh\\anaconda3\\lib\\site-packages (from tensorboard<2.12,>=2.11->tensorflow-intel==2.11.0; platform_system == \"Windows\"->tensorflow) (2.32.0)\n",
      "Requirement already satisfied: wheel>=0.26 in c:\\users\\smdsh\\anaconda3\\lib\\site-packages (from tensorboard<2.12,>=2.11->tensorflow-intel==2.11.0; platform_system == \"Windows\"->tensorflow) (0.33.4)\n",
      "Requirement already satisfied: google-auth-oauthlib<0.5,>=0.4.1 in c:\\users\\smdsh\\anaconda3\\lib\\site-packages (from tensorboard<2.12,>=2.11->tensorflow-intel==2.11.0; platform_system == \"Windows\"->tensorflow) (0.4.6)\n",
      "Requirement already satisfied: tensorboard-plugin-wit>=1.6.0 in c:\\users\\smdsh\\anaconda3\\lib\\site-packages (from tensorboard<2.12,>=2.11->tensorflow-intel==2.11.0; platform_system == \"Windows\"->tensorflow) (1.8.1)\n",
      "Requirement already satisfied: pyparsing>=2.0.2 in c:\\users\\smdsh\\anaconda3\\lib\\site-packages (from packaging->tensorflow-intel==2.11.0; platform_system == \"Windows\"->tensorflow) (2.4.0)\n",
      "Requirement already satisfied: importlib-metadata>=4.4; python_version < \"3.10\" in c:\\users\\smdsh\\anaconda3\\lib\\site-packages (from markdown>=2.6.8->tensorboard<2.12,>=2.11->tensorflow-intel==2.11.0; platform_system == \"Windows\"->tensorflow) (6.7.0)\n",
      "Requirement already satisfied: MarkupSafe>=2.1.1 in c:\\users\\smdsh\\anaconda3\\lib\\site-packages (from werkzeug>=1.0.1->tensorboard<2.12,>=2.11->tensorflow-intel==2.11.0; platform_system == \"Windows\"->tensorflow) (2.1.5)\n",
      "Requirement already satisfied: urllib3!=1.25.0,!=1.25.1,<1.26,>=1.21.1 in c:\\users\\smdsh\\anaconda3\\lib\\site-packages (from requests<3,>=2.21.0->tensorboard<2.12,>=2.11->tensorflow-intel==2.11.0; platform_system == \"Windows\"->tensorflow) (1.24.2)\n",
      "Requirement already satisfied: idna<2.9,>=2.5 in c:\\users\\smdsh\\anaconda3\\lib\\site-packages (from requests<3,>=2.21.0->tensorboard<2.12,>=2.11->tensorflow-intel==2.11.0; platform_system == \"Windows\"->tensorflow) (2.8)\n",
      "Requirement already satisfied: certifi>=2017.4.17 in c:\\users\\smdsh\\anaconda3\\lib\\site-packages (from requests<3,>=2.21.0->tensorboard<2.12,>=2.11->tensorflow-intel==2.11.0; platform_system == \"Windows\"->tensorflow) (2019.6.16)\n",
      "Requirement already satisfied: chardet<3.1.0,>=3.0.2 in c:\\users\\smdsh\\anaconda3\\lib\\site-packages (from requests<3,>=2.21.0->tensorboard<2.12,>=2.11->tensorflow-intel==2.11.0; platform_system == \"Windows\"->tensorflow) (3.0.4)\n",
      "Requirement already satisfied: rsa<5,>=3.1.4 in c:\\users\\smdsh\\anaconda3\\lib\\site-packages (from google-auth<3,>=1.6.3->tensorboard<2.12,>=2.11->tensorflow-intel==2.11.0; platform_system == \"Windows\"->tensorflow) (4.9)\n",
      "Requirement already satisfied: pyasn1-modules>=0.2.1 in c:\\users\\smdsh\\anaconda3\\lib\\site-packages (from google-auth<3,>=1.6.3->tensorboard<2.12,>=2.11->tensorflow-intel==2.11.0; platform_system == \"Windows\"->tensorflow) (0.3.0)\n",
      "Requirement already satisfied: cachetools<6.0,>=2.0.0 in c:\\users\\smdsh\\anaconda3\\lib\\site-packages (from google-auth<3,>=1.6.3->tensorboard<2.12,>=2.11->tensorflow-intel==2.11.0; platform_system == \"Windows\"->tensorflow) (5.4.0)\n",
      "Requirement already satisfied: requests-oauthlib>=0.7.0 in c:\\users\\smdsh\\anaconda3\\lib\\site-packages (from google-auth-oauthlib<0.5,>=0.4.1->tensorboard<2.12,>=2.11->tensorflow-intel==2.11.0; platform_system == \"Windows\"->tensorflow) (2.0.0)\n",
      "Requirement already satisfied: zipp>=0.5 in c:\\users\\smdsh\\anaconda3\\lib\\site-packages (from importlib-metadata>=4.4; python_version < \"3.10\"->markdown>=2.6.8->tensorboard<2.12,>=2.11->tensorflow-intel==2.11.0; platform_system == \"Windows\"->tensorflow) (0.5.1)\n",
      "Requirement already satisfied: pyasn1>=0.1.3 in c:\\users\\smdsh\\anaconda3\\lib\\site-packages (from rsa<5,>=3.1.4->google-auth<3,>=1.6.3->tensorboard<2.12,>=2.11->tensorflow-intel==2.11.0; platform_system == \"Windows\"->tensorflow) (0.5.1)\n",
      "Requirement already satisfied: oauthlib>=3.0.0 in c:\\users\\smdsh\\anaconda3\\lib\\site-packages (from requests-oauthlib>=0.7.0->google-auth-oauthlib<0.5,>=0.4.1->tensorboard<2.12,>=2.11->tensorflow-intel==2.11.0; platform_system == \"Windows\"->tensorflow) (3.2.2)\n",
      "Note: you may need to restart the kernel to use updated packages.\n"
     ]
    }
   ],
   "source": [
    "pip install tensorflow"
   ]
  },
  {
   "cell_type": "code",
   "execution_count": 4,
   "metadata": {},
   "outputs": [],
   "source": [
    "import numpy as np\n",
    "from keras.models import Sequential\n",
    "from keras.layers import Dense"
   ]
  },
  {
   "cell_type": "code",
   "execution_count": 5,
   "metadata": {},
   "outputs": [],
   "source": [
    "num_samples=10000\n",
    "X_train=np.random.rand(num_samples,2)\n",
    "y_train=np.sum(X_train,axis=1)\n",
    "X_test=np.random.rand(num_samples,2)\n",
    "y_test=np.sum(X_test,axis=1)"
   ]
  },
  {
   "cell_type": "code",
   "execution_count": 6,
   "metadata": {},
   "outputs": [],
   "source": [
    "model=Sequential([Dense(10, input_dim=2, activation='relu'),Dense(10, activation='relu'),Dense(1)])"
   ]
  },
  {
   "cell_type": "code",
   "execution_count": 7,
   "metadata": {},
   "outputs": [],
   "source": [
    "model.compile(optimizer='adam',loss='mean_squared_error')"
   ]
  },
  {
   "cell_type": "code",
   "execution_count": 9,
   "metadata": {},
   "outputs": [
    {
     "name": "stdout",
     "output_type": "stream",
     "text": [
      "Epoch 1/50\n",
      "250/250 [==============================] - 1s 3ms/step - loss: 0.0576 - val_loss: 0.0042\n",
      "Epoch 2/50\n",
      "250/250 [==============================] - 1s 2ms/step - loss: 0.0016 - val_loss: 4.2108e-04\n",
      "Epoch 3/50\n",
      "250/250 [==============================] - 1s 2ms/step - loss: 2.3316e-04 - val_loss: 1.4033e-04\n",
      "Epoch 4/50\n",
      "250/250 [==============================] - 1s 2ms/step - loss: 1.0832e-04 - val_loss: 7.9172e-05\n",
      "Epoch 5/50\n",
      "250/250 [==============================] - 1s 2ms/step - loss: 6.3900e-05 - val_loss: 4.9094e-05\n",
      "Epoch 6/50\n",
      "250/250 [==============================] - 1s 2ms/step - loss: 4.2175e-05 - val_loss: 3.4095e-05\n",
      "Epoch 7/50\n",
      "250/250 [==============================] - 1s 2ms/step - loss: 3.0969e-05 - val_loss: 2.6279e-05\n",
      "Epoch 8/50\n",
      "250/250 [==============================] - 1s 2ms/step - loss: 2.4288e-05 - val_loss: 2.0962e-05\n",
      "Epoch 9/50\n",
      "250/250 [==============================] - 1s 2ms/step - loss: 1.9661e-05 - val_loss: 1.7157e-05\n",
      "Epoch 10/50\n",
      "250/250 [==============================] - 1s 2ms/step - loss: 1.6164e-05 - val_loss: 1.3650e-05\n",
      "Epoch 11/50\n",
      "250/250 [==============================] - 1s 2ms/step - loss: 1.3520e-05 - val_loss: 1.1509e-05\n",
      "Epoch 12/50\n",
      "250/250 [==============================] - 1s 2ms/step - loss: 1.1118e-05 - val_loss: 9.2393e-06\n",
      "Epoch 13/50\n",
      "250/250 [==============================] - 1s 2ms/step - loss: 9.1562e-06 - val_loss: 7.7886e-06\n",
      "Epoch 14/50\n",
      "250/250 [==============================] - 1s 2ms/step - loss: 7.6327e-06 - val_loss: 6.2990e-06\n",
      "Epoch 15/50\n",
      "250/250 [==============================] - 1s 2ms/step - loss: 6.2341e-06 - val_loss: 5.1329e-06\n",
      "Epoch 16/50\n",
      "250/250 [==============================] - 1s 2ms/step - loss: 5.0730e-06 - val_loss: 4.1837e-06\n",
      "Epoch 17/50\n",
      "250/250 [==============================] - 1s 2ms/step - loss: 4.1290e-06 - val_loss: 3.7100e-06\n",
      "Epoch 18/50\n",
      "250/250 [==============================] - 1s 2ms/step - loss: 3.2420e-06 - val_loss: 2.6183e-06\n",
      "Epoch 19/50\n",
      "250/250 [==============================] - 1s 2ms/step - loss: 2.5802e-06 - val_loss: 2.0492e-06\n",
      "Epoch 20/50\n",
      "250/250 [==============================] - 1s 2ms/step - loss: 1.9387e-06 - val_loss: 1.5617e-06\n",
      "Epoch 21/50\n",
      "250/250 [==============================] - 1s 2ms/step - loss: 1.4880e-06 - val_loss: 1.1693e-06\n",
      "Epoch 22/50\n",
      "250/250 [==============================] - 1s 2ms/step - loss: 1.0900e-06 - val_loss: 9.8233e-07\n",
      "Epoch 23/50\n",
      "250/250 [==============================] - 1s 2ms/step - loss: 7.8591e-07 - val_loss: 5.9041e-07\n",
      "Epoch 24/50\n",
      "250/250 [==============================] - 1s 2ms/step - loss: 5.3215e-07 - val_loss: 4.4268e-07\n",
      "Epoch 25/50\n",
      "250/250 [==============================] - 1s 2ms/step - loss: 3.7109e-07 - val_loss: 2.8423e-07\n",
      "Epoch 26/50\n",
      "250/250 [==============================] - 1s 2ms/step - loss: 2.4745e-07 - val_loss: 1.8073e-07\n",
      "Epoch 27/50\n",
      "250/250 [==============================] - 1s 2ms/step - loss: 1.6476e-07 - val_loss: 1.2639e-07\n",
      "Epoch 28/50\n",
      "250/250 [==============================] - 1s 2ms/step - loss: 1.2230e-07 - val_loss: 1.2698e-07\n",
      "Epoch 29/50\n",
      "250/250 [==============================] - 1s 2ms/step - loss: 8.8030e-08 - val_loss: 6.3024e-08\n",
      "Epoch 30/50\n",
      "250/250 [==============================] - 1s 2ms/step - loss: 6.3516e-08 - val_loss: 5.4122e-08\n",
      "Epoch 31/50\n",
      "250/250 [==============================] - 1s 2ms/step - loss: 5.9291e-08 - val_loss: 4.4000e-08\n",
      "Epoch 32/50\n",
      "250/250 [==============================] - 1s 2ms/step - loss: 4.3968e-08 - val_loss: 4.2995e-08\n",
      "Epoch 33/50\n",
      "250/250 [==============================] - 1s 2ms/step - loss: 4.2994e-08 - val_loss: 3.3999e-08\n",
      "Epoch 34/50\n",
      "250/250 [==============================] - 1s 2ms/step - loss: 3.8691e-08 - val_loss: 3.0131e-08\n",
      "Epoch 35/50\n",
      "250/250 [==============================] - 1s 2ms/step - loss: 3.2980e-08 - val_loss: 1.4288e-07\n",
      "Epoch 36/50\n",
      "250/250 [==============================] - 1s 2ms/step - loss: 3.5506e-08 - val_loss: 2.7249e-08\n",
      "Epoch 37/50\n",
      "250/250 [==============================] - 1s 2ms/step - loss: 3.1465e-08 - val_loss: 2.1120e-08\n",
      "Epoch 38/50\n",
      "250/250 [==============================] - 1s 2ms/step - loss: 2.9665e-08 - val_loss: 2.3077e-08\n",
      "Epoch 39/50\n",
      "250/250 [==============================] - 1s 2ms/step - loss: 5.0140e-08 - val_loss: 2.2422e-08\n",
      "Epoch 40/50\n",
      "250/250 [==============================] - 1s 2ms/step - loss: 4.2698e-07 - val_loss: 1.3884e-07\n",
      "Epoch 41/50\n",
      "250/250 [==============================] - 1s 2ms/step - loss: 1.7935e-07 - val_loss: 1.2028e-06\n",
      "Epoch 42/50\n",
      "250/250 [==============================] - 1s 2ms/step - loss: 3.5961e-07 - val_loss: 2.0425e-08\n",
      "Epoch 43/50\n",
      "250/250 [==============================] - 1s 2ms/step - loss: 9.8239e-07 - val_loss: 2.2240e-08\n",
      "Epoch 44/50\n",
      "250/250 [==============================] - 1s 2ms/step - loss: 2.0540e-08 - val_loss: 5.0205e-08\n",
      "Epoch 45/50\n",
      "250/250 [==============================] - 1s 2ms/step - loss: 1.3724e-07 - val_loss: 4.2816e-08\n",
      "Epoch 46/50\n",
      "250/250 [==============================] - 1s 2ms/step - loss: 2.9694e-07 - val_loss: 1.0146e-07\n",
      "Epoch 47/50\n",
      "250/250 [==============================] - 1s 2ms/step - loss: 1.0632e-06 - val_loss: 7.2721e-09\n",
      "Epoch 48/50\n",
      "250/250 [==============================] - 1s 2ms/step - loss: 8.3444e-09 - val_loss: 8.9480e-09\n",
      "Epoch 49/50\n",
      "250/250 [==============================] - 1s 2ms/step - loss: 6.7809e-08 - val_loss: 3.5277e-06\n",
      "Epoch 50/50\n",
      "250/250 [==============================] - 1s 2ms/step - loss: 1.0580e-06 - val_loss: 1.6431e-08\n"
     ]
    },
    {
     "data": {
      "text/plain": [
       "<keras.callbacks.History at 0x23f18187240>"
      ]
     },
     "execution_count": 9,
     "metadata": {},
     "output_type": "execute_result"
    }
   ],
   "source": [
    "model.fit(X_train, y_train, epochs=50, batch_size=32, validation_split=0.2)"
   ]
  },
  {
   "cell_type": "code",
   "execution_count": 10,
   "metadata": {},
   "outputs": [
    {
     "name": "stdout",
     "output_type": "stream",
     "text": [
      "313/313 [==============================] - 0s 2ms/step - loss: 3.1143e-08\n",
      "Test Loss: 3.1143279954903846e-08\n"
     ]
    }
   ],
   "source": [
    "loss=model.evaluate(X_test,y_test)\n",
    "print(f'Test Loss: {loss}')"
   ]
  },
  {
   "cell_type": "code",
   "execution_count": 11,
   "metadata": {},
   "outputs": [
    {
     "name": "stdout",
     "output_type": "stream",
     "text": [
      "1/1 [==============================] - 0s 81ms/step\n",
      "The predicted sum of 0.4 and 0.4 is 0.7998952865600586\n"
     ]
    }
   ],
   "source": [
    "new_numbers=np.array([[0.4,0.4]])\n",
    "predicted_sum=model.predict(new_numbers)\n",
    "print(f'The predicted sum of {new_numbers[0][0]} and {new_numbers[0][1]} is {predicted_sum[0][0]}')"
   ]
  },
  {
   "cell_type": "code",
   "execution_count": null,
   "metadata": {},
   "outputs": [],
   "source": []
  }
 ],
 "metadata": {
  "kernelspec": {
   "display_name": "Python 3",
   "language": "python",
   "name": "python3"
  },
  "language_info": {
   "codemirror_mode": {
    "name": "ipython",
    "version": 3
   },
   "file_extension": ".py",
   "mimetype": "text/x-python",
   "name": "python",
   "nbconvert_exporter": "python",
   "pygments_lexer": "ipython3",
   "version": "3.7.3"
  }
 },
 "nbformat": 4,
 "nbformat_minor": 2
}
